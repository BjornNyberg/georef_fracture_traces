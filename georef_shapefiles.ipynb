{
 "cells": [
  {
   "cell_type": "markdown",
   "metadata": {},
   "source": [
    "## Shapefile georeferencer\n",
    "\n",
    "This notebook was designed to georefence a shapefile using a control point file with three dimensional coordinates. \n",
    "\n",
    "For now the notebook works with line shapefiles only, and uses a first order polynomial transformation for georeferencing. \n",
    "\n",
    "This notebook requires the Python modules numpy, scipy, geopandas, shapely and sympy."
   ]
  },
  {
   "cell_type": "markdown",
   "metadata": {},
   "source": [
    "## Import some Python modules"
   ]
  },
  {
   "cell_type": "code",
   "execution_count": 317,
   "metadata": {},
   "outputs": [],
   "source": [
    "import itertools\n",
    "import numpy as np\n",
    "import geopandas as gp\n",
    "import matplotlib.pyplot as pl\n",
    "import scipy.optimize\n",
    "\n",
    "import shapely\n",
    "import sympy"
   ]
  },
  {
   "cell_type": "markdown",
   "metadata": {},
   "source": [
    "## Some parameters for georeferencing"
   ]
  },
  {
   "cell_type": "code",
   "execution_count": 318,
   "metadata": {},
   "outputs": [],
   "source": [
    "#geometry = \n",
    "\n",
    "# shapefile to be projected\n",
    "shpfile = 'data/L48_1_MG_TM fractures.shp'\n",
    "\n",
    "# file with control points, ie points for which the coordinates are known\n",
    "#control_pt_file = 'data/L48_1_MG coord locations.shp'\n",
    "control_pt_file = 'data/L48_1_MG_control_pts_mod.shp'\n",
    "\n",
    "# columns in the control point file that designate real coordinates\n",
    "cp_x_col = 'northing'\n",
    "cp_y_col = 'easting'\n",
    "cp_z_col = 'elevation'\n",
    "\n",
    "# absolute and relative tolerance of optimization algorithm to find the georeference transofrmation\n",
    "# see https://docs.scipy.org/doc/scipy/reference/generated/scipy.optimize.fmin.html\n",
    "# feel free to adjust these values if the georeferencing error is too high\n",
    "xtol = 1e-12\n",
    "ftol = 1e-12\n",
    "\n",
    "approximate_orientation = 'horizontal'"
   ]
  },
  {
   "cell_type": "markdown",
   "metadata": {},
   "source": [
    "## Optional parameters for projecting the 3D georefenced shapefile/lines onto a 2D plane"
   ]
  },
  {
   "cell_type": "code",
   "execution_count": 319,
   "metadata": {},
   "outputs": [],
   "source": [
    "# Switch to turn projection on or off\n",
    "project_shapefile = True\n",
    "\n",
    "# file with three points that define a plane\n",
    "# if the file contains more than three pts then the first three are used only\n",
    "plane_pt_file = 'data/L48_1_MG_plane_projection_pts.shp'\n",
    "\n",
    "# columns in the plane point file that designate real coordinates\n",
    "pp_x_col = 'northing'\n",
    "pp_y_col = 'easting'\n",
    "pp_z_col = 'elevation'"
   ]
  },
  {
   "cell_type": "markdown",
   "metadata": {},
   "source": [
    "## Read control point file"
   ]
  },
  {
   "cell_type": "code",
   "execution_count": 320,
   "metadata": {},
   "outputs": [
    {
     "data": {
      "text/html": [
       "<div>\n",
       "<style scoped>\n",
       "    .dataframe tbody tr th:only-of-type {\n",
       "        vertical-align: middle;\n",
       "    }\n",
       "\n",
       "    .dataframe tbody tr th {\n",
       "        vertical-align: top;\n",
       "    }\n",
       "\n",
       "    .dataframe thead th {\n",
       "        text-align: right;\n",
       "    }\n",
       "</style>\n",
       "<table border=\"1\" class=\"dataframe\">\n",
       "  <thead>\n",
       "    <tr style=\"text-align: right;\">\n",
       "      <th></th>\n",
       "      <th>id</th>\n",
       "      <th>northing</th>\n",
       "      <th>easting</th>\n",
       "      <th>elevation</th>\n",
       "      <th>geometry</th>\n",
       "    </tr>\n",
       "  </thead>\n",
       "  <tbody>\n",
       "    <tr>\n",
       "      <th>0</th>\n",
       "      <td>1.0</td>\n",
       "      <td>5742957.092</td>\n",
       "      <td>3588783.315</td>\n",
       "      <td>486.818</td>\n",
       "      <td>POINT (2026.601 -2236.399)</td>\n",
       "    </tr>\n",
       "    <tr>\n",
       "      <th>1</th>\n",
       "      <td>2.0</td>\n",
       "      <td>5742950.091</td>\n",
       "      <td>3588784.181</td>\n",
       "      <td>489.146</td>\n",
       "      <td>POINT (3745.403 -1620.575)</td>\n",
       "    </tr>\n",
       "    <tr>\n",
       "      <th>2</th>\n",
       "      <td>3.0</td>\n",
       "      <td>5742961.891</td>\n",
       "      <td>3588784.179</td>\n",
       "      <td>491.471</td>\n",
       "      <td>POINT (594.475 -959.583)</td>\n",
       "    </tr>\n",
       "    <tr>\n",
       "      <th>3</th>\n",
       "      <td>4.0</td>\n",
       "      <td>5742955.344</td>\n",
       "      <td>3588784.760</td>\n",
       "      <td>491.381</td>\n",
       "      <td>POINT (2465.584 -1001.695)</td>\n",
       "    </tr>\n",
       "    <tr>\n",
       "      <th>4</th>\n",
       "      <td>NaN</td>\n",
       "      <td>5742960.122</td>\n",
       "      <td>3588785.829</td>\n",
       "      <td>492.735</td>\n",
       "      <td>POINT (1303.852 -612.002)</td>\n",
       "    </tr>\n",
       "    <tr>\n",
       "      <th>5</th>\n",
       "      <td>NaN</td>\n",
       "      <td>5742959.543</td>\n",
       "      <td>3588784.720</td>\n",
       "      <td>491.175</td>\n",
       "      <td>POINT (1352.190 -1047.155)</td>\n",
       "    </tr>\n",
       "    <tr>\n",
       "      <th>6</th>\n",
       "      <td>NaN</td>\n",
       "      <td>5742960.563</td>\n",
       "      <td>3588783.929</td>\n",
       "      <td>490.448</td>\n",
       "      <td>POINT (1009.730 -1275.061)</td>\n",
       "    </tr>\n",
       "    <tr>\n",
       "      <th>7</th>\n",
       "      <td>NaN</td>\n",
       "      <td>5742960.680</td>\n",
       "      <td>3588783.291</td>\n",
       "      <td>488.857</td>\n",
       "      <td>POINT (976.612 -1760.686)</td>\n",
       "    </tr>\n",
       "    <tr>\n",
       "      <th>8</th>\n",
       "      <td>NaN</td>\n",
       "      <td>5742951.182</td>\n",
       "      <td>3588783.643</td>\n",
       "      <td>486.365</td>\n",
       "      <td>POINT (3453.906 -2291.213)</td>\n",
       "    </tr>\n",
       "    <tr>\n",
       "      <th>9</th>\n",
       "      <td>NaN</td>\n",
       "      <td>5742949.472</td>\n",
       "      <td>3588783.580</td>\n",
       "      <td>486.772</td>\n",
       "      <td>POINT (3872.096 -2206.428)</td>\n",
       "    </tr>\n",
       "    <tr>\n",
       "      <th>10</th>\n",
       "      <td>NaN</td>\n",
       "      <td>5742948.939</td>\n",
       "      <td>3588783.700</td>\n",
       "      <td>487.299</td>\n",
       "      <td>POINT (4038.409 -2085.556)</td>\n",
       "    </tr>\n",
       "    <tr>\n",
       "      <th>11</th>\n",
       "      <td>NaN</td>\n",
       "      <td>5742956.016</td>\n",
       "      <td>3588783.611</td>\n",
       "      <td>488.080</td>\n",
       "      <td>POINT (2283.284 -1918.775)</td>\n",
       "    </tr>\n",
       "    <tr>\n",
       "      <th>12</th>\n",
       "      <td>NaN</td>\n",
       "      <td>5742957.435</td>\n",
       "      <td>3588784.363</td>\n",
       "      <td>490.693</td>\n",
       "      <td>POINT (1908.172 -1221.140)</td>\n",
       "    </tr>\n",
       "    <tr>\n",
       "      <th>13</th>\n",
       "      <td>NaN</td>\n",
       "      <td>5742956.820</td>\n",
       "      <td>3588784.774</td>\n",
       "      <td>491.394</td>\n",
       "      <td>POINT (2072.401 -1006.289)</td>\n",
       "    </tr>\n",
       "    <tr>\n",
       "      <th>14</th>\n",
       "      <td>NaN</td>\n",
       "      <td>5742952.072</td>\n",
       "      <td>3588784.152</td>\n",
       "      <td>488.808</td>\n",
       "      <td>POINT (3274.121 -1690.925)</td>\n",
       "    </tr>\n",
       "    <tr>\n",
       "      <th>15</th>\n",
       "      <td>NaN</td>\n",
       "      <td>5742953.211</td>\n",
       "      <td>3588784.607</td>\n",
       "      <td>490.092</td>\n",
       "      <td>POINT (2982.346 -1338.213)</td>\n",
       "    </tr>\n",
       "    <tr>\n",
       "      <th>16</th>\n",
       "      <td>NaN</td>\n",
       "      <td>5742952.902</td>\n",
       "      <td>3588783.620</td>\n",
       "      <td>485.816</td>\n",
       "      <td>POINT (3052.412 -2448.842)</td>\n",
       "    </tr>\n",
       "    <tr>\n",
       "      <th>17</th>\n",
       "      <td>NaN</td>\n",
       "      <td>5742953.851</td>\n",
       "      <td>3588783.606</td>\n",
       "      <td>487.313</td>\n",
       "      <td>POINT (2837.330 -2098.542)</td>\n",
       "    </tr>\n",
       "    <tr>\n",
       "      <th>18</th>\n",
       "      <td>2.0</td>\n",
       "      <td>5742959.543</td>\n",
       "      <td>3588784.720</td>\n",
       "      <td>491.175</td>\n",
       "      <td>POINT (610.707 -1775.014)</td>\n",
       "    </tr>\n",
       "  </tbody>\n",
       "</table>\n",
       "</div>"
      ],
      "text/plain": [
       "     id     northing      easting  elevation                    geometry\n",
       "0   1.0  5742957.092  3588783.315    486.818  POINT (2026.601 -2236.399)\n",
       "1   2.0  5742950.091  3588784.181    489.146  POINT (3745.403 -1620.575)\n",
       "2   3.0  5742961.891  3588784.179    491.471    POINT (594.475 -959.583)\n",
       "3   4.0  5742955.344  3588784.760    491.381  POINT (2465.584 -1001.695)\n",
       "4   NaN  5742960.122  3588785.829    492.735   POINT (1303.852 -612.002)\n",
       "5   NaN  5742959.543  3588784.720    491.175  POINT (1352.190 -1047.155)\n",
       "6   NaN  5742960.563  3588783.929    490.448  POINT (1009.730 -1275.061)\n",
       "7   NaN  5742960.680  3588783.291    488.857   POINT (976.612 -1760.686)\n",
       "8   NaN  5742951.182  3588783.643    486.365  POINT (3453.906 -2291.213)\n",
       "9   NaN  5742949.472  3588783.580    486.772  POINT (3872.096 -2206.428)\n",
       "10  NaN  5742948.939  3588783.700    487.299  POINT (4038.409 -2085.556)\n",
       "11  NaN  5742956.016  3588783.611    488.080  POINT (2283.284 -1918.775)\n",
       "12  NaN  5742957.435  3588784.363    490.693  POINT (1908.172 -1221.140)\n",
       "13  NaN  5742956.820  3588784.774    491.394  POINT (2072.401 -1006.289)\n",
       "14  NaN  5742952.072  3588784.152    488.808  POINT (3274.121 -1690.925)\n",
       "15  NaN  5742953.211  3588784.607    490.092  POINT (2982.346 -1338.213)\n",
       "16  NaN  5742952.902  3588783.620    485.816  POINT (3052.412 -2448.842)\n",
       "17  NaN  5742953.851  3588783.606    487.313  POINT (2837.330 -2098.542)\n",
       "18  2.0  5742959.543  3588784.720    491.175   POINT (610.707 -1775.014)"
      ]
     },
     "execution_count": 320,
     "metadata": {},
     "output_type": "execute_result"
    }
   ],
   "source": [
    "cp = gp.read_file(control_pt_file)\n",
    "cp"
   ]
  },
  {
   "cell_type": "code",
   "execution_count": 321,
   "metadata": {},
   "outputs": [
    {
     "name": "stdout",
     "output_type": "stream",
     "text": [
      "source coords:  [[ 2026.600641   -2236.39859409]\n",
      " [ 3745.40348893 -1620.57498587]\n",
      " [  594.47528058  -959.58308778]\n",
      " [ 2465.58406617 -1001.69516552]\n",
      " [ 1303.85225545  -612.00243682]\n",
      " [ 1352.19004564 -1047.15478248]\n",
      " [ 1009.72993149 -1275.06126473]\n",
      " [  976.61179963 -1760.68632727]\n",
      " [ 3453.90587901 -2291.21328058]\n",
      " [ 3872.09594357 -2206.42834611]\n",
      " [ 4038.40923014 -2085.55647722]\n",
      " [ 2283.28414554 -1918.77514907]\n",
      " [ 1908.17219302 -1221.13968454]\n",
      " [ 2072.40074422 -1006.28871815]\n",
      " [ 3274.12119293 -1690.92523543]\n",
      " [ 2982.34575363 -1338.21298869]\n",
      " [ 3052.41189315 -2448.84171029]\n",
      " [ 2837.32997651 -2098.54186916]\n",
      " [  610.7066482  -1775.01396674]]\n",
      "to be projected to:  [[5.74295709e+06 3.58878331e+06 4.86818000e+02]\n",
      " [5.74295009e+06 3.58878418e+06 4.89146000e+02]\n",
      " [5.74296189e+06 3.58878418e+06 4.91471000e+02]\n",
      " [5.74295534e+06 3.58878476e+06 4.91381000e+02]\n",
      " [5.74296012e+06 3.58878583e+06 4.92735000e+02]\n",
      " [5.74295954e+06 3.58878472e+06 4.91175000e+02]\n",
      " [5.74296056e+06 3.58878393e+06 4.90448000e+02]\n",
      " [5.74296068e+06 3.58878329e+06 4.88857000e+02]\n",
      " [5.74295118e+06 3.58878364e+06 4.86365000e+02]\n",
      " [5.74294947e+06 3.58878358e+06 4.86772000e+02]\n",
      " [5.74294894e+06 3.58878370e+06 4.87299000e+02]\n",
      " [5.74295602e+06 3.58878361e+06 4.88080000e+02]\n",
      " [5.74295743e+06 3.58878436e+06 4.90693000e+02]\n",
      " [5.74295682e+06 3.58878477e+06 4.91394000e+02]\n",
      " [5.74295207e+06 3.58878415e+06 4.88808000e+02]\n",
      " [5.74295321e+06 3.58878461e+06 4.90092000e+02]\n",
      " [5.74295290e+06 3.58878362e+06 4.85816000e+02]\n",
      " [5.74295385e+06 3.58878361e+06 4.87313000e+02]\n",
      " [5.74295954e+06 3.58878472e+06 4.91175000e+02]]\n"
     ]
    }
   ],
   "source": [
    "src = np.array([g.coords[:][0] for g in cp.geometry])\n",
    "dst = np.array(list(zip(cp[cp_x_col], cp[cp_y_col], cp[cp_z_col])))\n",
    "\n",
    "print('source coords: ', src)\n",
    "print('to be projected to: ', dst)"
   ]
  },
  {
   "cell_type": "markdown",
   "metadata": {},
   "source": [
    "## Some functions to transform coordinates"
   ]
  },
  {
   "cell_type": "code",
   "execution_count": 322,
   "metadata": {},
   "outputs": [],
   "source": [
    "def transform(params, x, y, order):\n",
    "    \n",
    "    if order == 1:\n",
    "        ax, bx, cx, ay, by, cy, az, bz, cz = params\n",
    "        x_transformed = ax * x + bx * y + cx\n",
    "        y_transformed = ay * x + by * y + cy\n",
    "        z_transformed = az * x + bz * y + cz \n",
    "        \n",
    "    elif order == 2:\n",
    "        ax, bx, cx, dx, ex, ay, by, cy, dy, ey, az, bz, cz, dz, ez = params\n",
    "        x_transformed = ax * x + bx * x**2 + cx * y + dx * y**2 + ex\n",
    "        y_transformed = ay * x + by * x**2 + cy * y + dy * y**2 + ey\n",
    "        z_transformed = az * x + bz * x**2 + cz * y + dz * y**2 + ez\n",
    "        \n",
    "    return x_transformed, y_transformed, z_transformed\n",
    "\n",
    "\n",
    "def get_transform_error(params, src, dst, order):\n",
    "    \n",
    "    x_src = src[:, 0]\n",
    "    y_src = src[:, 1]\n",
    "\n",
    "    x_dst = dst[:, 0]\n",
    "    y_dst = dst[:, 1]\n",
    "    z_dst = dst[:, 2]\n",
    "\n",
    "    # optional, transform coords by substracting lower bounds\n",
    "    # this may make optimization easier\n",
    "    norm_dst_coords = False\n",
    "    if norm_dst_coords is True:\n",
    "        \n",
    "        x_dst_i = dst[:, 0]\n",
    "        y_dst_i = dst[:, 1]\n",
    "        z_dst_i = dst[:, 2]\n",
    "\n",
    "        x0 = x_dst_i.min()\n",
    "        y0 = y_dst_i.min()\n",
    "        z0 = z_dst_i.min()\n",
    "\n",
    "        x_dst = x_dst_i - x0\n",
    "        y_dst = x_dst_i - y0\n",
    "        z_dst = x_dst_i - z0\n",
    "    \n",
    "    # transform the source coordinates\n",
    "    xt, yt, zt = transform(params, x_src, y_src, order)\n",
    "    \n",
    "    if norm_dst_coords is True:\n",
    "        xt += x0\n",
    "        yt += y0\n",
    "        zt += z0\n",
    "    \n",
    "    # check how far off the coordinates are from their real coords\n",
    "    xd = x_dst - xt\n",
    "    yd = y_dst - yt\n",
    "    zd = z_dst - zt\n",
    "    err = np.sqrt(xd**2 + yd**2 + zd**2)\n",
    "    \n",
    "    # calculate the RMSE and return this\n",
    "    rmse = np.sqrt(np.mean((err)**2))\n",
    "    me = np.mean(err)\n",
    "    \n",
    "    #print(rmse)\n",
    "    \n",
    "    total_err = rmse + me\n",
    "    \n",
    "    return total_err\n",
    "\n",
    "\n",
    "def transform_func(params, src, order):\n",
    "    \n",
    "    x_src = src[:, 0]\n",
    "    y_src = src[:, 1]\n",
    "    \n",
    "    xt, yt, zt = transform(params, x_src, y_src, order)\n",
    "    \n",
    "    return np.vstack([xt, yt, zt]).T"
   ]
  },
  {
   "cell_type": "markdown",
   "metadata": {},
   "source": [
    "## Run optimization algorithm to find transform for control points"
   ]
  },
  {
   "cell_type": "code",
   "execution_count": 323,
   "metadata": {},
   "outputs": [
    {
     "name": "stdout",
     "output_type": "stream",
     "text": [
      "first guess params  [1, 0, 0, 0, 5740647.217783744, 0, 0, 1, 0, 3590394.3512668703, 0, 0, 0, 0, 489.25463157894734]\n",
      "Optimization terminated successfully.\n",
      "         Current function value: 1.228792\n",
      "         Iterations: 6322\n",
      "         Function evaluations: 9009\n",
      "optimized params [-2.46942641e-03 -2.67827989e-07 -4.18739106e-04 -1.80835077e-07\n",
      "  5.74296293e+06  8.65287792e-04 -1.35818738e-07  2.95096045e-03\n",
      "  5.45408407e-07  3.58878615e+06 -9.27703681e-04  1.40409110e-07\n",
      "  6.62944715e-04 -8.71871972e-07  4.94009506e+02]\n"
     ]
    }
   ],
   "source": [
    "cx_guess = dst[:, 0].mean() - src[:, 0].mean()\n",
    "cy_guess = dst[:, 1].mean() - src[:, 1].mean()\n",
    "cz_guess = dst[:, 2].mean()\n",
    "\n",
    "#cx_guess = 1\n",
    "#cy_guess = 1\n",
    "\n",
    "# polynomial order\n",
    "order = 2\n",
    "\n",
    "# first guess transform params\n",
    "if order == 1:\n",
    "    if approximate_orientation == 'vertical':\n",
    "        params = [1, 0, cx_guess, 0, 0, cy_guess, 0, 1, cz_guess]\n",
    "    elif approximate_orientation == 'horizontal':\n",
    "        params = [1, 0, cx_guess, 0, 1, cy_guess, 0, 0, cz_guess]\n",
    "        \n",
    "elif order == 2:\n",
    "    if approximate_orientation == 'vertical':\n",
    "        params = [1, 0, 0, 0, cx_guess, 0, 0, 0, 0, cy_guess, 0, 0, 1, 0, cz_guess]\n",
    "    elif approximate_orientation == 'horizontal':\n",
    "        params = [1, 0, 0, 0, cx_guess, 0, 0, 1, 0, cy_guess, 0, 0, 0, 0, cz_guess]\n",
    "#params = [1, 1, cx_guess, 1, 1, cy_guess]\n",
    "\n",
    "print('first guess params ', params)\n",
    "\n",
    "\n",
    "opt_results = scipy.optimize.fmin(get_transform_error, params, args=(src, dst, order), \n",
    "                                 maxiter=1e5, xtol=xtol, ftol=ftol, full_output=True)\n",
    "\n",
    "params_opt = opt_results[0]\n",
    "opt_error = opt_results[1]\n",
    "#params_opt = scipy.optimize.fmin_cg(get_transform_error, params, args=(src, dst))\n",
    "\n",
    "print('optimized params', params_opt)"
   ]
  },
  {
   "cell_type": "markdown",
   "metadata": {},
   "source": [
    "## Show georefencing results"
   ]
  },
  {
   "cell_type": "code",
   "execution_count": 324,
   "metadata": {},
   "outputs": [
    {
     "name": "stdout",
     "output_type": "stream",
     "text": [
      "the optimized equation for transformation is:\n",
      "x = -2.47e-03 x + -2.68e-07 y + -4.19e-04\n",
      "y = -1.81e-07 x + 5.74e+06 y + 8.65e-04\n",
      "z = -1.36e-07 x + 2.95e-03 y + 5.45e-07\n",
      "\n",
      "the RMSE of the distance between the real coordinates and the transformed coords = 1.23e+00 \n",
      "the coordinates of the real and georeferenced control points are\n",
      " [[5.74295686e+06 3.58878347e+06 4.86862839e+02]\n",
      " [5.74295013e+06 3.58878413e+06 4.89140430e+02]\n",
      " [5.74296161e+06 3.58878429e+06 4.92068660e+02]\n",
      " [5.74295546e+06 3.58878505e+06 4.91036837e+02]\n",
      " [5.74295945e+06 3.58878544e+06 4.92306337e+02]\n",
      " [5.74295935e+06 3.58878458e+06 4.91361559e+02]\n",
      " [5.74296041e+06 3.58878401e+06 4.90953162e+02]\n",
      " [5.74296044e+06 3.58878336e+06 4.89367363e+02]\n",
      " [5.74295122e+06 3.58878362e+06 4.86384333e+02]\n",
      " [5.74294940e+06 3.58878361e+06 4.86815223e+02]\n",
      " [5.74294868e+06 3.58878365e+06 4.87378100e+02]\n",
      " [5.74295604e+06 3.58878376e+06 4.88141291e+02]\n",
      " [5.74295749e+06 3.58878452e+06 4.90640866e+02]\n",
      " [5.74295690e+06 3.58878494e+06 4.91139981e+02]\n",
      " [5.74295217e+06 3.58878410e+06 4.88863388e+02]\n",
      " [5.74295342e+06 3.58878455e+06 4.90043104e+02]\n",
      " [5.74295284e+06 3.58878357e+06 4.85634084e+02]\n",
      " [5.74295385e+06 3.58878372e+06 4.87276825e+02]\n",
      " [5.74296150e+06 3.58878311e+06 4.89571598e+02]] \n",
      "\n",
      " [[5.74295709e+06 3.58878331e+06 4.86818000e+02]\n",
      " [5.74295009e+06 3.58878418e+06 4.89146000e+02]\n",
      " [5.74296189e+06 3.58878418e+06 4.91471000e+02]\n",
      " [5.74295534e+06 3.58878476e+06 4.91381000e+02]\n",
      " [5.74296012e+06 3.58878583e+06 4.92735000e+02]\n",
      " [5.74295954e+06 3.58878472e+06 4.91175000e+02]\n",
      " [5.74296056e+06 3.58878393e+06 4.90448000e+02]\n",
      " [5.74296068e+06 3.58878329e+06 4.88857000e+02]\n",
      " [5.74295118e+06 3.58878364e+06 4.86365000e+02]\n",
      " [5.74294947e+06 3.58878358e+06 4.86772000e+02]\n",
      " [5.74294894e+06 3.58878370e+06 4.87299000e+02]\n",
      " [5.74295602e+06 3.58878361e+06 4.88080000e+02]\n",
      " [5.74295743e+06 3.58878436e+06 4.90693000e+02]\n",
      " [5.74295682e+06 3.58878477e+06 4.91394000e+02]\n",
      " [5.74295207e+06 3.58878415e+06 4.88808000e+02]\n",
      " [5.74295321e+06 3.58878461e+06 4.90092000e+02]\n",
      " [5.74295290e+06 3.58878362e+06 4.85816000e+02]\n",
      " [5.74295385e+06 3.58878361e+06 4.87313000e+02]\n",
      " [5.74295954e+06 3.58878472e+06 4.91175000e+02]]\n",
      "the normalized coordinates of the real and georeferenced control points are\n",
      " [[ 8.18122486  0.3659049   1.22875545]\n",
      " [ 1.45131589  1.02752353  3.50634641]\n",
      " [12.92637877  1.17872381  6.43457615]\n",
      " [ 6.77500772  1.94088964  5.4027537 ]\n",
      " [10.76719541  2.33740741  6.67225281]\n",
      " [10.66509799  1.47145608  5.72747496]\n",
      " [11.72714103  0.90110167  5.31907871]\n",
      " [11.76329938  0.25237952  3.73327901]\n",
      " [ 2.53962729  0.51211551  0.75024916]\n",
      " [ 0.71985896  0.50008285  1.18113927]\n",
      " [ 0.          0.53904657  1.74401645]\n",
      " [ 7.35673334  0.65523174  2.507207  ]\n",
      " [ 8.80813624  1.4081639   5.00678255]\n",
      " [ 8.22407527  1.83448418  5.50589774]\n",
      " [ 3.48846561  0.98850143  3.22930458]\n",
      " [ 4.74341147  1.44208438  4.4090203 ]\n",
      " [ 4.16161123  0.46185595  0.        ]\n",
      " [ 5.17339511  0.61271413  1.64274118]\n",
      " [12.81927062  0.          3.9375139 ]] \n",
      "\n",
      " [[ 8.41108449  0.20760484  1.18391629]\n",
      " [ 1.41008449  1.07360484  3.51191629]\n",
      " [13.21008449  1.07160484  5.83691629]\n",
      " [ 6.66308449  1.65260484  5.74691629]\n",
      " [11.44108449  2.72160484  7.10091629]\n",
      " [10.86208449  1.61260484  5.54091629]\n",
      " [11.88208449  0.82160484  4.81391629]\n",
      " [11.99908449  0.18360484  3.22291629]\n",
      " [ 2.50108449  0.53560484  0.73091629]\n",
      " [ 0.79108449  0.47260484  1.13791629]\n",
      " [ 0.25808449  0.59260484  1.66491629]\n",
      " [ 7.33508449  0.50360484  2.44591629]\n",
      " [ 8.75408449  1.25560484  5.05891629]\n",
      " [ 8.13908449  1.66660484  5.75991629]\n",
      " [ 3.39108449  1.04460484  3.17391629]\n",
      " [ 4.53008449  1.49960484  4.45791629]\n",
      " [ 4.22108449  0.51260484  0.18191629]\n",
      " [ 5.17008449  0.49860484  1.67891629]\n",
      " [10.86208449  1.61260484  5.54091629]]\n",
      "transform error:\n",
      " [(0, 0.2790956148217259), (1, 0.06183457737849915), (2, 0.3032546954319478), (3, 0.3092489836296115), (4, 0.7757152538851357), (5, 0.24233582876580828), (6, 0.17414712894022819), (7, 0.24561061472878223), (8, 0.04513641191441384), (9, 0.07634210335893019), (10, 0.26358317938855685), (11, 0.15316458572732222), (12, 0.1618513452482679), (13, 0.188167224253303), (14, 0.1123862706073752), (15, 0.22094570134451016), (16, 0.07818259206744409), (17, 0.1141573052786252), (18, 2.53595581797539)]\n"
     ]
    }
   ],
   "source": [
    "print('the optimized equation for transformation is:')\n",
    "print('x = %0.2e x + %0.2e y + %0.2e' % (params_opt[0], params_opt[1], params_opt[2]))\n",
    "print('y = %0.2e x + %0.2e y + %0.2e' % (params_opt[3], params_opt[4], params_opt[5]))\n",
    "print('z = %0.2e x + %0.2e y + %0.2e' % (params_opt[6], params_opt[7], params_opt[8]))\n",
    "print('\\nthe RMSE of the distance between the real coordinates and the transformed coords = %0.2e ' \n",
    "      %(opt_error))\n",
    "\n",
    "srct = transform_func(params_opt, src, order)\n",
    "\n",
    "x0, y0, z0 = srct[:, 0].min(), srct[:, 1].min(), srct[:, 2].min() \n",
    "srct_norm = srct.copy()\n",
    "srct_norm[:, 0] -= x0\n",
    "srct_norm[:, 1] -= y0\n",
    "srct_norm[:, 2] -= z0\n",
    "\n",
    "dst_norm = dst.copy()\n",
    "dst_norm[:, 0] -= x0\n",
    "dst_norm[:, 1] -= y0\n",
    "dst_norm[:, 2] -= z0\n",
    "\n",
    "te = dst_norm - srct_norm\n",
    "transform_error = np.sqrt(te[:, 0]**2 + te[:, 1]**2, te[:, 2]**2)\n",
    "print('the coordinates of the real and georeferenced control points are\\n',srct, '\\n\\n', dst)\n",
    "print('the normalized coordinates of the real and georeferenced control points are\\n',srct_norm, '\\n\\n', dst_norm)\n",
    "print('transform error:\\n', list(zip(itertools.count(), transform_error)))"
   ]
  },
  {
   "cell_type": "code",
   "execution_count": 325,
   "metadata": {},
   "outputs": [
    {
     "data": {
      "image/png": "[encoded data removed]",
      "text/plain": [
       "<Figure size 432x288 with 1 Axes>"
      ]
     },
     "metadata": {
      "needs_background": "light"
     },
     "output_type": "display_data"
    }
   ],
   "source": [
    "def set_axes_equal(ax):\n",
    "    '''Make axes of 3D plot have equal scale so that spheres appear as spheres,\n",
    "    cubes as cubes, etc..  This is one possible solution to Matplotlib's\n",
    "    ax.set_aspect('equal') and ax.axis('equal') not working for 3D.\n",
    "\n",
    "    Input\n",
    "      ax: a matplotlib axis, e.g., as output from plt.gca().\n",
    "      \n",
    "      https://stackoverflow.com/questions/13685386/matplotlib-equal-unit-length-with-equal-aspect-ratio-z-axis-is-not-equal-to#13701747\n",
    "    '''\n",
    "\n",
    "    x_limits = ax.get_xlim3d()\n",
    "    y_limits = ax.get_ylim3d()\n",
    "    z_limits = ax.get_zlim3d()\n",
    "\n",
    "    x_range = abs(x_limits[1] - x_limits[0])\n",
    "    x_middle = np.mean(x_limits)\n",
    "    y_range = abs(y_limits[1] - y_limits[0])\n",
    "    y_middle = np.mean(y_limits)\n",
    "    z_range = abs(z_limits[1] - z_limits[0])\n",
    "    z_middle = np.mean(z_limits)\n",
    "\n",
    "    # The plot bounding box is a sphere in the sense of the infinity\n",
    "    # norm, hence I call half the max range the plot radius.\n",
    "    plot_radius = 0.5*max([x_range, y_range, z_range])\n",
    "\n",
    "    ax.set_xlim3d([x_middle - plot_radius, x_middle + plot_radius])\n",
    "    ax.set_ylim3d([y_middle - plot_radius, y_middle + plot_radius])\n",
    "    ax.set_zlim3d([z_middle - plot_radius, z_middle + plot_radius])\n",
    "\n",
    "\n",
    "fig = pl.figure()\n",
    "ax = fig.add_subplot(111, projection='3d')\n",
    "\n",
    "#ax.set_aspect('equal')\n",
    "\n",
    "ax.scatter(srct_norm[:, 0], srct_norm[:, 1], srct_norm[:, 2], color='blue')\n",
    "ax.scatter(dst_norm[:, 0], dst_norm[:, 1], dst_norm[:, 2], color='orange')\n",
    "\n",
    "for a, b in zip(srct_norm, dst_norm):\n",
    "    ax.plot([a[0], b[0]], [a[1], b[1]], [a[2], b[2]], color='black')\n",
    "\n",
    "for i, a in enumerate(dst_norm):\n",
    "    ax.text(a[0], a[1], a[2], str(i+1), zorder=101)\n",
    "\n",
    "ax.set_xlabel('x + %0.0f' % x0)\n",
    "ax.set_ylabel('y + %0.0f' % y0)\n",
    "ax.set_zlabel('elevation + %0.0f' % z0)\n",
    "\n",
    "#set_axes_equal(ax)\n",
    "fig.tight_layout()\n",
    "\n",
    "fig.savefig('fig/transform_error.pdf')"
   ]
  },
  {
   "cell_type": "markdown",
   "metadata": {},
   "source": [
    "## Load shapefile that should be projected"
   ]
  },
  {
   "cell_type": "code",
   "execution_count": 326,
   "metadata": {},
   "outputs": [
    {
     "data": {
      "text/html": [
       "<div>\n",
       "<style scoped>\n",
       "    .dataframe tbody tr th:only-of-type {\n",
       "        vertical-align: middle;\n",
       "    }\n",
       "\n",
       "    .dataframe tbody tr th {\n",
       "        vertical-align: top;\n",
       "    }\n",
       "\n",
       "    .dataframe thead th {\n",
       "        text-align: right;\n",
       "    }\n",
       "</style>\n",
       "<table border=\"1\" class=\"dataframe\">\n",
       "  <thead>\n",
       "    <tr style=\"text-align: right;\">\n",
       "      <th></th>\n",
       "      <th>geometry</th>\n",
       "    </tr>\n",
       "  </thead>\n",
       "  <tbody>\n",
       "    <tr>\n",
       "      <th>0</th>\n",
       "      <td>LINESTRING (518.362 -1139.601, 1464.451 -1400....</td>\n",
       "    </tr>\n",
       "    <tr>\n",
       "      <th>1</th>\n",
       "      <td>LINESTRING (1009.730 -1275.061, 987.286 -1395....</td>\n",
       "    </tr>\n",
       "    <tr>\n",
       "      <th>2</th>\n",
       "      <td>LINESTRING (623.263 -1319.963, 989.359 -1414.639)</td>\n",
       "    </tr>\n",
       "    <tr>\n",
       "      <th>3</th>\n",
       "      <td>LINESTRING (936.874 -1401.862, 944.354 -1494.726)</td>\n",
       "    </tr>\n",
       "    <tr>\n",
       "      <th>4</th>\n",
       "      <td>LINESTRING (539.561 -1413.767, 944.354 -1494.7...</td>\n",
       "    </tr>\n",
       "  </tbody>\n",
       "</table>\n",
       "</div>"
      ],
      "text/plain": [
       "                                            geometry\n",
       "0  LINESTRING (518.362 -1139.601, 1464.451 -1400....\n",
       "1  LINESTRING (1009.730 -1275.061, 987.286 -1395....\n",
       "2  LINESTRING (623.263 -1319.963, 989.359 -1414.639)\n",
       "3  LINESTRING (936.874 -1401.862, 944.354 -1494.726)\n",
       "4  LINESTRING (539.561 -1413.767, 944.354 -1494.7..."
      ]
     },
     "execution_count": 326,
     "metadata": {},
     "output_type": "execute_result"
    }
   ],
   "source": [
    "shp = gp.read_file(shpfile)\n",
    "shp.head()"
   ]
  },
  {
   "cell_type": "code",
   "execution_count": 327,
   "metadata": {},
   "outputs": [
    {
     "data": {
      "text/plain": [
       "<matplotlib.axes._subplots.AxesSubplot at 0x10244b1c50>"
      ]
     },
     "execution_count": 327,
     "metadata": {},
     "output_type": "execute_result"
    },
    {
     "data": {
      "image/png": "[encoded data removed]",
      "text/plain": [
       "<Figure size 432x288 with 1 Axes>"
      ]
     },
     "metadata": {
      "needs_background": "light"
     },
     "output_type": "display_data"
    }
   ],
   "source": [
    "shp.plot()"
   ]
  },
  {
   "cell_type": "markdown",
   "metadata": {},
   "source": [
    "## Project shapefile"
   ]
  },
  {
   "cell_type": "code",
   "execution_count": 328,
   "metadata": {},
   "outputs": [],
   "source": [
    "gt = []\n",
    "\n",
    "for g in shp.geometry:\n",
    "    \n",
    "    gc = np.array(g.coords[:])\n",
    "    \n",
    "    gct = transform_func(params_opt, gc, order)\n",
    "    \n",
    "    l = shapely.geometry.LineString(gct)\n",
    "    \n",
    "    gt.append(l)\n",
    "    "
   ]
  },
  {
   "cell_type": "code",
   "execution_count": 329,
   "metadata": {},
   "outputs": [
    {
     "data": {
      "text/plain": [
       "(2, 3)"
      ]
     },
     "execution_count": 329,
     "metadata": {},
     "output_type": "execute_result"
    }
   ],
   "source": [
    "gct.shape"
   ]
  },
  {
   "cell_type": "code",
   "execution_count": 330,
   "metadata": {},
   "outputs": [],
   "source": [
    "#shp['geometry_backup'] = shp.geometry\n",
    "shp.geometry = gt"
   ]
  },
  {
   "cell_type": "markdown",
   "metadata": {},
   "source": [
    "## Save georeferenced shapefile"
   ]
  },
  {
   "cell_type": "code",
   "execution_count": 331,
   "metadata": {},
   "outputs": [
    {
     "name": "stdout",
     "output_type": "stream",
     "text": [
      "saving georeferenced shapefile as\n",
      "\tdata/L48_1_MG_TM fractures_georef.shp\n"
     ]
    }
   ],
   "source": [
    "fn_out = shpfile[:-4] + '_georef.shp'\n",
    "\n",
    "print('saving georeferenced shapefile as\\n\\t%s' % fn_out)\n",
    "\n",
    "shp.to_file(fn_out)"
   ]
  },
  {
   "cell_type": "markdown",
   "metadata": {},
   "source": [
    "## Show the georeferenced shapefile"
   ]
  },
  {
   "cell_type": "code",
   "execution_count": 332,
   "metadata": {},
   "outputs": [
    {
     "data": {
      "text/plain": [
       "<matplotlib.axes._subplots.AxesSubplot at 0x10240efac8>"
      ]
     },
     "execution_count": 332,
     "metadata": {},
     "output_type": "execute_result"
    },
    {
     "data": {
      "image/png": "[encoded data removed]",
      "text/plain": [
       "<Figure size 432x288 with 1 Axes>"
      ]
     },
     "metadata": {
      "needs_background": "light"
     },
     "output_type": "display_data"
    }
   ],
   "source": [
    "shp.plot()  "
   ]
  },
  {
   "cell_type": "code",
   "execution_count": null,
   "metadata": {},
   "outputs": [],
   "source": [
    "fig = pl.figure()\n",
    "ax = fig.add_subplot(111, projection='3d')\n"
   ]
  },
  {
   "cell_type": "markdown",
   "metadata": {},
   "source": [
    "## Optional: Project the georefenced points to a plane"
   ]
  },
  {
   "cell_type": "code",
   "execution_count": 333,
   "metadata": {},
   "outputs": [
    {
     "name": "stdout",
     "output_type": "stream",
     "text": [
      "proceeding with projection of georeferenced shapefile to a 2D plane\n"
     ]
    }
   ],
   "source": [
    "if project_shapefile is False:\n",
    "    print('ending notebook here')\n",
    "    exit()\n",
    "else:\n",
    "    print('proceeding with projection of georeferenced shapefile to a 2D plane')"
   ]
  },
  {
   "cell_type": "markdown",
   "metadata": {},
   "source": [
    "## Read file with points that define the plane to be projected to"
   ]
  },
  {
   "cell_type": "code",
   "execution_count": 334,
   "metadata": {},
   "outputs": [
    {
     "data": {
      "text/html": [
       "<div>\n",
       "<style scoped>\n",
       "    .dataframe tbody tr th:only-of-type {\n",
       "        vertical-align: middle;\n",
       "    }\n",
       "\n",
       "    .dataframe tbody tr th {\n",
       "        vertical-align: top;\n",
       "    }\n",
       "\n",
       "    .dataframe thead th {\n",
       "        text-align: right;\n",
       "    }\n",
       "</style>\n",
       "<table border=\"1\" class=\"dataframe\">\n",
       "  <thead>\n",
       "    <tr style=\"text-align: right;\">\n",
       "      <th></th>\n",
       "      <th>id</th>\n",
       "      <th>northing</th>\n",
       "      <th>easting</th>\n",
       "      <th>elevation</th>\n",
       "      <th>geometry</th>\n",
       "    </tr>\n",
       "  </thead>\n",
       "  <tbody>\n",
       "    <tr>\n",
       "      <th>0</th>\n",
       "      <td>2.0</td>\n",
       "      <td>5742959.543</td>\n",
       "      <td>3588784.72</td>\n",
       "      <td>491.175</td>\n",
       "      <td>POINT (610.707 -1775.014)</td>\n",
       "    </tr>\n",
       "    <tr>\n",
       "      <th>1</th>\n",
       "      <td>NaN</td>\n",
       "      <td>5742948.939</td>\n",
       "      <td>3588783.70</td>\n",
       "      <td>487.299</td>\n",
       "      <td>POINT (4038.409 -2085.556)</td>\n",
       "    </tr>\n",
       "  </tbody>\n",
       "</table>\n",
       "</div>"
      ],
      "text/plain": [
       "    id     northing     easting  elevation                    geometry\n",
       "0  2.0  5742959.543  3588784.72    491.175   POINT (610.707 -1775.014)\n",
       "1  NaN  5742948.939  3588783.70    487.299  POINT (4038.409 -2085.556)"
      ]
     },
     "execution_count": 334,
     "metadata": {},
     "output_type": "execute_result"
    }
   ],
   "source": [
    "pp = gp.read_file(plane_pt_file) \n",
    "pp"
   ]
  },
  {
   "cell_type": "markdown",
   "metadata": {},
   "source": [
    "## Check if two or three points on the plane"
   ]
  },
  {
   "cell_type": "code",
   "execution_count": 335,
   "metadata": {},
   "outputs": [
    {
     "name": "stdout",
     "output_type": "stream",
     "text": [
      "found two points to define the plane. Assuming the plane is vertical and the third point is located above point 1\n",
      "adding total hor distance of 10.65 to the vertical axis \n",
      "using the following points to define the plane:\n",
      "[(5742959.543, 3588784.72, 491.175), (5742948.939, 3588783.7, 487.299), (5742948.939, 3588783.7, 497.95194400559257)]\n"
     ]
    }
   ],
   "source": [
    "try:\n",
    "    assert len(pp) >= 2\n",
    "except:\n",
    "    msg = 'need at least two points to define a plane'\n",
    "    raise IndexError(msg)\n",
    "\n",
    "# get coordinates of the plane\n",
    "px = pp[pp_x_col].values\n",
    "py = pp[pp_y_col].values\n",
    "pz = pp[pp_z_col].values\n",
    "\n",
    "if len(pp) == 2:\n",
    "    print('found two points to define the plane. Assuming the plane is vertical and the third point is located above point 1')\n",
    "    origin_id = np.argmin(px)\n",
    "    px = np.append(px, px[origin_id])\n",
    "    py = np.append(py, py[origin_id])\n",
    "    xy_dist = np.sqrt((px[1] - px[0])**2 + (py[1] - py[0])**2)\n",
    "    print('adding total hor distance of %0.2f to the vertical axis ' % xy_dist)\n",
    "    pz = np.append(pz, pz[origin_id] + xy_dist)\n",
    "    \n",
    "print('using the following points to define the plane:')\n",
    "print(list(zip(px, py, pz)))"
   ]
  },
  {
   "cell_type": "code",
   "execution_count": 336,
   "metadata": {},
   "outputs": [
    {
     "name": "stdout",
     "output_type": "stream",
     "text": [
      "plane coordinates are relative to origin of\n",
      "x0 = 5742948.94, y0=3588783.70, z0=487.30\n",
      "\n",
      "\n",
      "relative coordinates plane:\n",
      " [(0.0, 0.0, 0.0), (10.6039999993518, 1.0200000000186265, 3.876000000000033), (0.0, 0.0, 10.652944005592587)]\n",
      "\n",
      "equation of the plane = 5433001442951458173412095069*x/500000000000000000000000000 - 2824095455709967302389371917*y/25000000000000000000000000\n",
      "\n",
      "the plane appears to be vertical\n",
      "\n",
      "simplified eq. of the plane = -112.964x + 10.866 y + 0.000\n"
     ]
    }
   ],
   "source": [
    "# define origin of the plane\n",
    "x0 = px.min()\n",
    "y0 = py.min()\n",
    "z0 = pz.min()\n",
    "\n",
    "# sort points to make sure the origin is the first pt\n",
    "pxi = px.copy()\n",
    "pyi = py.copy()\n",
    "pzi = pz.copy()\n",
    "\n",
    "origin_id = np.argmin(pxi)\n",
    "vert_id = np.argmax(pzi)\n",
    "ids = [origin_id, vert_id]\n",
    "res = [i for i in [0, 1, 2] if i not in ids][0] \n",
    "new_ids = np.array([origin_id, res, vert_id])\n",
    "\n",
    "px = pxi[new_ids]\n",
    "py = pyi[new_ids]\n",
    "pz = pzi[new_ids]\n",
    "\n",
    "pxr = px - x0\n",
    "pyr = py - y0\n",
    "pzr = pz - z0\n",
    "\n",
    "print('plane coordinates are relative to origin of')\n",
    "print('x0 = %0.2f, y0=%0.2f, z0=%0.2f\\n' % (x0, y0, z0))\n",
    "\n",
    "print('\\nrelative coordinates plane:\\n', list(zip(pxr, pyr, pzr)))\n",
    "\n",
    "plane = sympy.Plane(sympy.Point3D(pxr[0], pyr[0], pzr[0]),\n",
    "                    sympy.Point3D(pxr[1], pyr[1], pzr[1]),\n",
    "                    sympy.Point3D(pxr[2], pyr[2], pzr[2]))\n",
    "\n",
    "print('\\nequation of the plane = %s' % str(plane.equation()))\n",
    "\n",
    "a = plane.equation()\n",
    "\n",
    "b = a.as_coeff_add()\n",
    "plane_coeffs = [bi.as_coeff_Mul()[0].round(3) for bi in b[1]]\n",
    "plane_coeffs.append(b[0].round(3))\n",
    "\n",
    "if len(plane_coeffs) == 4:\n",
    "    print('\\nsimplified eq. of the plane = %0.3f z + %0.3fx + %0.3f y + %0.3f' \n",
    "          % (plane_coeffs[0], plane_coeffs[1], plane_coeffs[2], plane_coeffs[3]))\n",
    "elif len(plane_coeffs) == 3:\n",
    "    print('\\nthe plane appears to be vertical')\n",
    "    print('\\nsimplified eq. of the plane = %0.3fx + %0.3f y + %0.3f' \n",
    "          % (plane_coeffs[0], plane_coeffs[1], plane_coeffs[2]))"
   ]
  },
  {
   "cell_type": "markdown",
   "metadata": {},
   "source": [
    "## Select two vectors that lie in the plane"
   ]
  },
  {
   "cell_type": "code",
   "execution_count": 337,
   "metadata": {},
   "outputs": [
    {
     "data": {
      "text/plain": [
       "<matplotlib.axes._subplots.AxesSubplot at 0x1025816240>"
      ]
     },
     "execution_count": 337,
     "metadata": {},
     "output_type": "execute_result"
    },
    {
     "data": {
      "image/png": "[encoded data removed]",
      "text/plain": [
       "<Figure size 432x288 with 1 Axes>"
      ]
     },
     "metadata": {
      "needs_background": "light"
     },
     "output_type": "display_data"
    },
    {
     "data": {
      "image/png": "[encoded data removed]",
      "text/plain": [
       "<Figure size 432x288 with 1 Axes>"
      ]
     },
     "metadata": {
      "needs_background": "light"
     },
     "output_type": "display_data"
    }
   ],
   "source": [
    "import shapely\n",
    "\n",
    "vect1_xy = [[pxr[0], pyr[0], pzr[0]], [pxr[1], pyr[1], pzr[1]]]\n",
    "vect2_xy = [[pxr[0], pyr[0], pzr[0]], [pxr[2], pyr[2], pzr[2]]]\n",
    "\n",
    "vect1 = shapely.geometry.LineString(vect1_xy)\n",
    "vect2 = shapely.geometry.LineString(vect2_xy)\n",
    "\n",
    "#vect1, vect2\n",
    "vp1 = gp.GeoSeries(vect1)\n",
    "vp2 = gp.GeoSeries(vect2)\n",
    "vp1.plot()\n",
    "vp2.plot()\n"
   ]
  },
  {
   "cell_type": "code",
   "execution_count": 338,
   "metadata": {},
   "outputs": [],
   "source": [
    "shp_proj = shp.copy()"
   ]
  },
  {
   "cell_type": "markdown",
   "metadata": {},
   "source": [
    "## Projection onto a plane using shapely\n",
    "\n",
    "projection on to a plane defined by two vectors. Using shapely to get the projected points and distance along each vector for the projected point"
   ]
  },
  {
   "cell_type": "code",
   "execution_count": 339,
   "metadata": {},
   "outputs": [
    {
     "name": "stdout",
     "output_type": "stream",
     "text": [
      "start projecting lines onto a plane defined by two vectors\n",
      "note: this may take a while....\n",
      "processing line segment 1 of 468\n",
      "processing line segment 101 of 468\n",
      "processing line segment 201 of 468\n",
      "processing line segment 301 of 468\n",
      "processing line segment 401 of 468\n",
      "done projecting\n"
     ]
    }
   ],
   "source": [
    "def ClosestPointOnLine(a, b, p):\n",
    "    '''\n",
    "    \n",
    "    https://gamedev.stackexchange.com/questions/72528/how-can-i-project-a-3d-point-onto-a-3d-line\n",
    "       \n",
    "    ''' \n",
    "    ap = p - a\n",
    "    ab = b - a\n",
    "    \n",
    "    result = a + np.dot(ap, ab) / np.dot(ab, ab) * ab\n",
    "    \n",
    "    return result\n",
    "\n",
    "\n",
    "def projected_distance(a, b, p):\n",
    "    \n",
    "    # find the projected point\n",
    "    projected_pt = ClosestPointOnLine(a, b, p)\n",
    "    \n",
    "    # find the distance between the projected pt and the origin (which is assumed to be a)\n",
    "    distance = np.sqrt((projected_pt[0] - a[0])**2 + (projected_pt[1] - a[1])**2 + (projected_pt[2] - a[2])**2 )\n",
    "    \n",
    "    return distance\n",
    "\n",
    "\n",
    "prs = np.array(list(zip(pxr, pyr, pzr)))\n",
    "\n",
    "gpr = []\n",
    "\n",
    "print('start projecting lines onto a plane defined by two vectors')\n",
    "print('note: this may take a while....')\n",
    "\n",
    "for i, g in enumerate(shp.geometry):\n",
    "    \n",
    "    if int(i/100) == float(i/100):\n",
    "        print('processing line segment %i of %i' % (i+1, len(shp.geometry)))\n",
    "    \n",
    "    gc = np.array(g.coords[:])\n",
    "    \n",
    "    # convert the georeferenced coords to relative coords\n",
    "    gc[:, 0] = gc[:, 0] - x0\n",
    "    gc[:, 1] = gc[:, 1] - y0\n",
    "    gc[:, 2] = gc[:, 2] - z0\n",
    "    \n",
    "    #gcmp = shapely.geometry.MultiPoint(gc)\n",
    "    \n",
    "    gcp = []\n",
    "    \n",
    "    for gci in gc:\n",
    "        \n",
    "        #dx = vect1.project(gci)\n",
    "        #dy = vect2.project(gci)\n",
    "        dx = projected_distance(prs[0], prs[1], gci)\n",
    "        dy = projected_distance(prs[0], prs[2], gci)\n",
    "        \n",
    "        gcp.append([dx, dy])\n",
    "        \n",
    "    #gcp_sympy = [plane.projection(sympy.Point3D(gci[0], gci[1], gci[2])) for gci in gc]\n",
    "    \n",
    "    #gcp = [[gi.x.round(2), gi.y.round(2), gi.z.round(2)] for gi in gcp_sympy]\n",
    "    \n",
    "    l = shapely.geometry.LineString(gcp)\n",
    "    \n",
    "    gpr.append(l)\n",
    "    \n",
    "print('done projecting')"
   ]
  },
  {
   "cell_type": "code",
   "execution_count": 340,
   "metadata": {},
   "outputs": [
    {
     "data": {
      "text/plain": [
       "(array([[1.67241373, 0.027585  , 0.06089488],\n",
       "        [1.53411479, 0.0450683 , 0.19409509]]),\n",
       " array([[ 0.        ,  0.        ,  0.        ],\n",
       "        [10.604     ,  1.02      ,  3.876     ],\n",
       "        [ 0.        ,  0.        , 10.65294401]]),\n",
       " [[1.5877012693700947, 0.06089487717099473],\n",
       "  [1.5054507847295293, 0.19409508967896727]])"
      ]
     },
     "execution_count": 340,
     "metadata": {},
     "output_type": "execute_result"
    }
   ],
   "source": [
    "gc, prs, gcp"
   ]
  },
  {
   "cell_type": "markdown",
   "metadata": {},
   "source": [
    "## Add new projected geometry to modified shapefile"
   ]
  },
  {
   "cell_type": "code",
   "execution_count": 341,
   "metadata": {},
   "outputs": [],
   "source": [
    "shp_proj.geometry = gpr"
   ]
  },
  {
   "cell_type": "markdown",
   "metadata": {},
   "source": [
    "## Save projected shapefile"
   ]
  },
  {
   "cell_type": "code",
   "execution_count": 342,
   "metadata": {},
   "outputs": [
    {
     "name": "stdout",
     "output_type": "stream",
     "text": [
      "saving shapefile that was projected onto a plane as\n",
      "\tdata/L48_1_MG_TM fractures_projected_to_plane.shp\n"
     ]
    }
   ],
   "source": [
    "fn_out = shpfile[:-4] + '_projected_to_plane.shp'\n",
    "\n",
    "print('saving shapefile that was projected onto a plane as\\n\\t%s' % fn_out)\n",
    "\n",
    "shp_proj.to_file(fn_out)"
   ]
  },
  {
   "cell_type": "code",
   "execution_count": 343,
   "metadata": {},
   "outputs": [
    {
     "data": {
      "text/plain": [
       "<matplotlib.axes._subplots.AxesSubplot at 0x10241ea9e8>"
      ]
     },
     "execution_count": 343,
     "metadata": {},
     "output_type": "execute_result"
    },
    {
     "data": {
      "image/png": "[encoded data removed]",
      "text/plain": [
       "<Figure size 432x288 with 1 Axes>"
      ]
     },
     "metadata": {
      "needs_background": "light"
     },
     "output_type": "display_data"
    }
   ],
   "source": [
    "shp_proj.plot()"
   ]
  },
  {
   "cell_type": "code",
   "execution_count": 344,
   "metadata": {},
   "outputs": [
    {
     "data": {
      "text/plain": [
       "<matplotlib.axes._subplots.AxesSubplot at 0x1024c05080>"
      ]
     },
     "execution_count": 344,
     "metadata": {},
     "output_type": "execute_result"
    },
    {
     "data": {
      "image/png": "[encoded data removed]",
      "text/plain": [
       "<Figure size 432x288 with 1 Axes>"
      ]
     },
     "metadata": {
      "needs_background": "light"
     },
     "output_type": "display_data"
    }
   ],
   "source": [
    "shp.plot()"
   ]
  },
  {
   "cell_type": "markdown",
   "metadata": {},
   "source": [
    "## Projection onto a plane using sympy\n",
    "\n",
    "Works with getting projected point coordinates (in 3D) but then still would need to convert this to new x and y coordinates along the plane. Not sure how to do this, sympy does not have an option to project to a vector/line..."
   ]
  },
  {
   "cell_type": "code",
   "execution_count": 345,
   "metadata": {},
   "outputs": [
    {
     "ename": "SyntaxError",
     "evalue": "invalid syntax (<ipython-input-345-2468f231d8e0>, line 1)",
     "output_type": "error",
     "traceback": [
      "\u001b[0;36m  File \u001b[0;32m\"<ipython-input-345-2468f231d8e0>\"\u001b[0;36m, line \u001b[0;32m1\u001b[0m\n\u001b[0;31m    use_sympy _proj = False\u001b[0m\n\u001b[0m                  ^\u001b[0m\n\u001b[0;31mSyntaxError\u001b[0m\u001b[0;31m:\u001b[0m invalid syntax\n"
     ]
    }
   ],
   "source": [
    "use_sympy _proj = False\n",
    "\n",
    "if use_sympy _proj is True:\n",
    "\n",
    "    gpr = []\n",
    "\n",
    "    print('start projecting lines onto a plane')\n",
    "    print('note: this may take a while....')\n",
    "\n",
    "    for i, g in enumerate(shp.geometry):\n",
    "\n",
    "        if int(i/10) == float(i/10):\n",
    "            print('processing line segment %i of %i' % (i+1, len(shp.geometry)))\n",
    "\n",
    "        gc = np.array(g.coords[:])\n",
    "\n",
    "        # convert the georeferenced coords to relative coords\n",
    "        gc[:, 0] = gc[:, 0] - x0\n",
    "        gc[:, 1] = gc[:, 1] - y0\n",
    "        gc[:, 2] = gc[:, 2] - z0\n",
    "\n",
    "        gcp_sympy = [plane.projection(sympy.Point3D(gci[0], gci[1], gci[2])) for gci in gc]\n",
    "\n",
    "        gcp = [[gi.x.round(2), gi.y.round(2), gi.z.round(2)] for gi in gcp_sympy]\n",
    "\n",
    "        l = shapely.geometry.LineString(gcp)\n",
    "\n",
    "        gpr.append(l)\n",
    "\n",
    "    print('done projecting')\n",
    "    \n",
    "    fn_out = shpfile[:-4] + '_projected_to_plane_with_sympy.shp'\n",
    "\n",
    "    print('saving shapefile that was projected onto a plane as\\n\\t%s' % fn_out)\n",
    "\n",
    "    shp.to_file(fn_out)"
   ]
  },
  {
   "cell_type": "code",
   "execution_count": null,
   "metadata": {},
   "outputs": [],
   "source": [
    "shp_proj.geometry = gpr"
   ]
  },
  {
   "cell_type": "code",
   "execution_count": null,
   "metadata": {},
   "outputs": [],
   "source": []
  },
  {
   "cell_type": "code",
   "execution_count": null,
   "metadata": {},
   "outputs": [],
   "source": []
  }
 ],
 "metadata": {
  "kernelspec": {
   "display_name": "Python 3",
   "language": "python",
   "name": "python3"
  },
  "language_info": {
   "codemirror_mode": {
    "name": "ipython",
    "version": 3
   },
   "file_extension": ".py",
   "mimetype": "text/x-python",
   "name": "python",
   "nbconvert_exporter": "python",
   "pygments_lexer": "ipython3",
   "version": "3.7.0"
  }
 },
 "nbformat": 4,
 "nbformat_minor": 4
}
