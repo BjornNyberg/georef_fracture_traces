{
 "cells": [
  {
   "cell_type": "markdown",
   "metadata": {},
   "source": [
    "## Shapefile georeferencer\n",
    "\n",
    "This notebook was designed to georefence a shapefile using a control point file with three dimensional coordinates. \n",
    "\n",
    "For now the notebook works with line shapefiles only, and uses a first order polynomial transformation for georeferencing. \n",
    "\n",
    "This notebook requires the Python modules numpy, scipy, geopandas, shapely and sympy."
   ]
  },
  {
   "cell_type": "markdown",
   "metadata": {},
   "source": [
    "## Import some Python modules"
   ]
  },
  {
   "cell_type": "code",
   "execution_count": 48,
   "metadata": {},
   "outputs": [],
   "source": [
    "import numpy as np\n",
    "import geopandas as gp\n",
    "import scipy.optimize\n",
    "\n",
    "import shapely\n",
    "import sympy"
   ]
  },
  {
   "cell_type": "markdown",
   "metadata": {},
   "source": [
    "## Some parameters for georeferencing"
   ]
  },
  {
   "cell_type": "code",
   "execution_count": 33,
   "metadata": {},
   "outputs": [],
   "source": [
    "#geometry = \n",
    "\n",
    "# shapefile to be projected\n",
    "shpfile = 'data/L48_1_MG_TM fractures.shp'\n",
    "\n",
    "# file with control points, ie points for which the coordinates are known\n",
    "control_pt_file = 'data/L48_1_MG coord locations.shp'\n",
    "\n",
    "# columns in the control point file that designate real coordinates\n",
    "cp_x_col = 'northing'\n",
    "cp_y_col = 'easting'\n",
    "cp_z_col = 'elevation'\n",
    "\n",
    "# absolute and relative tolerance of optimization algorithm to find the georeference transofrmation\n",
    "# see https://docs.scipy.org/doc/scipy/reference/generated/scipy.optimize.fmin.html\n",
    "# feel free to adjust these values if the georeferencing error is too high\n",
    "xtol = 1e-8\n",
    "ftol = 1e-8"
   ]
  },
  {
   "cell_type": "markdown",
   "metadata": {},
   "source": [
    "## Optional parameters for projecting the 3D georefenced shapefile/lines onto a 2D plane"
   ]
  },
  {
   "cell_type": "code",
   "execution_count": 45,
   "metadata": {},
   "outputs": [],
   "source": [
    "# Switch to turn projection on or off\n",
    "project_shapefile = True\n",
    "\n",
    "# file with three points that define a plane\n",
    "# if the file contains more than three pts then the first three are used only\n",
    "plane_pt_file = 'data/L48_1_MG coord locations.shp'\n",
    "\n",
    "# columns in the plane point file that designate real coordinates\n",
    "pp_x_col = 'northing'\n",
    "pp_y_col = 'easting'\n",
    "pp_z_col = 'elevation'"
   ]
  },
  {
   "cell_type": "markdown",
   "metadata": {},
   "source": [
    "## Read control point file"
   ]
  },
  {
   "cell_type": "code",
   "execution_count": 34,
   "metadata": {},
   "outputs": [
    {
     "data": {
      "text/html": [
       "<div>\n",
       "<style scoped>\n",
       "    .dataframe tbody tr th:only-of-type {\n",
       "        vertical-align: middle;\n",
       "    }\n",
       "\n",
       "    .dataframe tbody tr th {\n",
       "        vertical-align: top;\n",
       "    }\n",
       "\n",
       "    .dataframe thead th {\n",
       "        text-align: right;\n",
       "    }\n",
       "</style>\n",
       "<table border=\"1\" class=\"dataframe\">\n",
       "  <thead>\n",
       "    <tr style=\"text-align: right;\">\n",
       "      <th></th>\n",
       "      <th>id</th>\n",
       "      <th>northing</th>\n",
       "      <th>easting</th>\n",
       "      <th>elevation</th>\n",
       "      <th>geometry</th>\n",
       "    </tr>\n",
       "  </thead>\n",
       "  <tbody>\n",
       "    <tr>\n",
       "      <th>0</th>\n",
       "      <td>1</td>\n",
       "      <td>5742957.092</td>\n",
       "      <td>3588783.315</td>\n",
       "      <td>486.818</td>\n",
       "      <td>POINT (2026.601 -2236.399)</td>\n",
       "    </tr>\n",
       "    <tr>\n",
       "      <th>1</th>\n",
       "      <td>2</td>\n",
       "      <td>5742950.091</td>\n",
       "      <td>3588784.181</td>\n",
       "      <td>489.146</td>\n",
       "      <td>POINT (3745.403 -1620.575)</td>\n",
       "    </tr>\n",
       "    <tr>\n",
       "      <th>2</th>\n",
       "      <td>3</td>\n",
       "      <td>5742961.891</td>\n",
       "      <td>3588784.179</td>\n",
       "      <td>491.471</td>\n",
       "      <td>POINT (594.475 -959.583)</td>\n",
       "    </tr>\n",
       "    <tr>\n",
       "      <th>3</th>\n",
       "      <td>4</td>\n",
       "      <td>5742955.344</td>\n",
       "      <td>3588784.760</td>\n",
       "      <td>491.381</td>\n",
       "      <td>POINT (2465.584 -1001.695)</td>\n",
       "    </tr>\n",
       "  </tbody>\n",
       "</table>\n",
       "</div>"
      ],
      "text/plain": [
       "   id     northing      easting  elevation                    geometry\n",
       "0   1  5742957.092  3588783.315    486.818  POINT (2026.601 -2236.399)\n",
       "1   2  5742950.091  3588784.181    489.146  POINT (3745.403 -1620.575)\n",
       "2   3  5742961.891  3588784.179    491.471    POINT (594.475 -959.583)\n",
       "3   4  5742955.344  3588784.760    491.381  POINT (2465.584 -1001.695)"
      ]
     },
     "execution_count": 34,
     "metadata": {},
     "output_type": "execute_result"
    }
   ],
   "source": [
    "cp = gp.read_file(control_pt_file)\n",
    "cp.head()"
   ]
  },
  {
   "cell_type": "code",
   "execution_count": 35,
   "metadata": {},
   "outputs": [
    {
     "name": "stdout",
     "output_type": "stream",
     "text": [
      "source coords:  [[ 2026.600641   -2236.39859409]\n",
      " [ 3745.40348893 -1620.57498587]\n",
      " [  594.47528058  -959.58308778]\n",
      " [ 2465.58406617 -1001.69516552]]\n",
      "to be projected to:  [[5.74295709e+06 3.58878331e+06 4.86818000e+02]\n",
      " [5.74295009e+06 3.58878418e+06 4.89146000e+02]\n",
      " [5.74296189e+06 3.58878418e+06 4.91471000e+02]\n",
      " [5.74295534e+06 3.58878476e+06 4.91381000e+02]]\n"
     ]
    }
   ],
   "source": [
    "src = np.array([g.coords[:][0] for g in cp.geometry])\n",
    "dst = np.array(list(zip(cp[cp_x_col], cp[cp_y_col], cp[cp_z_col])))\n",
    "\n",
    "print('source coords: ', src)\n",
    "print('to be projected to: ', dst)"
   ]
  },
  {
   "cell_type": "markdown",
   "metadata": {},
   "source": [
    "## Some functions to transform coordinates"
   ]
  },
  {
   "cell_type": "code",
   "execution_count": 36,
   "metadata": {},
   "outputs": [],
   "source": [
    "def transform(params, x, y, order):\n",
    "    \n",
    "    if order == 1:\n",
    "        ax, bx, cx, ay, by, cy, az, bz, cz = params\n",
    "        x_transformed = ax * x + bx * y + cx\n",
    "        y_transformed = ay * x + by * y + cy\n",
    "        z_transformed = az * x + bz * y + cz \n",
    "        \n",
    "    else:\n",
    "        pass\n",
    "        # 2nd order transform not implemented yet...\n",
    "        \n",
    "    return x_transformed, y_transformed, z_transformed\n",
    "\n",
    "\n",
    "def get_transform_error(params, src, dst, order):\n",
    "    \n",
    "    x_src = src[:, 0]\n",
    "    y_src = src[:, 1]\n",
    "    \n",
    "    x_dst = dst[:, 0]\n",
    "    y_dst = dst[:, 1]\n",
    "    z_dst = dst[:, 2]\n",
    "    \n",
    "    # transform the source coordinates\n",
    "    xt, yt, zt = transform(params, x_src, y_src, order)\n",
    "    \n",
    "    # check how far off the coordinates are from their real coords\n",
    "    xd = x_dst - xt\n",
    "    yd = y_dst - yt\n",
    "    zd = z_dst - zt\n",
    "    err = np.sqrt(xd**2 + yd**2 + zd**2)\n",
    "    \n",
    "    # calculate the RMSE and return this\n",
    "    rmse = np.sqrt(np.mean((err)**2))\n",
    "    \n",
    "    #print(rmse)\n",
    "    \n",
    "    return rmse\n",
    "\n",
    "\n",
    "def transform_func(params, src, order):\n",
    "    \n",
    "    x_src = src[:, 0]\n",
    "    y_src = src[:, 1]\n",
    "    \n",
    "    xt, yt, zt = transform(params, x_src, y_src, order)\n",
    "    \n",
    "    return np.vstack([xt, yt, zt]).T"
   ]
  },
  {
   "cell_type": "markdown",
   "metadata": {},
   "source": [
    "## Run optimization algorithm to find transform for control points"
   ]
  },
  {
   "cell_type": "code",
   "execution_count": 37,
   "metadata": {},
   "outputs": [
    {
     "name": "stdout",
     "output_type": "stream",
     "text": [
      "first guess params  [1, 1, 5740748.088630828, 1, 1, 3590238.6717083165, 0, 0, 489.70399999999995]\n",
      "Optimization terminated successfully.\n",
      "         Current function value: 2.164650\n",
      "         Iterations: 1966\n",
      "         Function evaluations: 2973\n",
      "optimized params [-3.78054589e-03 -2.49228296e-04  5.74296409e+06  2.29329504e-04\n",
      "  1.04762319e-03  3.58878513e+06  1.37430915e-03  7.75896236e-03\n",
      "  4.97961583e+02]\n"
     ]
    }
   ],
   "source": [
    "cx_guess = dst[:, 0].mean() - src[:, 0].mean()\n",
    "cy_guess = dst[:, 1].mean() - src[:, 1].mean()\n",
    "cz_guess = dst[:, 2].mean()\n",
    "\n",
    "#cx_guess = 1\n",
    "#cy_guess = 1\n",
    "\n",
    "# first guess transform params\n",
    "order = 1\n",
    "params = [1, 1, cx_guess, 1, 1, cy_guess, 0, 0, cz_guess]\n",
    "#params = [1, 1, cx_guess, 1, 1, cy_guess]\n",
    "\n",
    "print('first guess params ', params)\n",
    "\n",
    "\n",
    "opt_results = scipy.optimize.fmin(get_transform_error, params, args=(src, dst, order), \n",
    "                                 maxiter=1e5, xtol=xtol, ftol=ftol, full_output=True)\n",
    "\n",
    "params_opt = opt_results[0]\n",
    "opt_error = opt_results[1]\n",
    "#params_opt = scipy.optimize.fmin_cg(get_transform_error, params, args=(src, dst))\n",
    "\n",
    "print('optimized params', params_opt)"
   ]
  },
  {
   "cell_type": "markdown",
   "metadata": {},
   "source": [
    "## Show georefencing results"
   ]
  },
  {
   "cell_type": "code",
   "execution_count": 38,
   "metadata": {},
   "outputs": [
    {
     "name": "stdout",
     "output_type": "stream",
     "text": [
      "the optimized equation for transformation is:\n",
      "x = -3.78e-03 x + -2.49e-04 y + 5.74e+06\n",
      "y = 2.29e-04 x + 1.05e-03 y + 3.59e+06\n",
      "z = 1.37e-03 x + 7.76e-03 y + 4.98e+02\n",
      "\n",
      "the RMSE of the distance between the real coordinates and the transformed coords = 2.16e+00 \n",
      "the coordinates of the real and georeferenced control points are\n",
      " [[5.74295699e+06 3.58878325e+06 4.83394626e+02]\n",
      " [5.74295033e+06 3.58878429e+06 4.90534945e+02]\n",
      " [5.74296208e+06 3.58878426e+06 4.91333206e+02]\n",
      " [5.74295502e+06 3.58878464e+06 4.93577942e+02]] \n",
      "\n",
      " [[5.74295709e+06 3.58878331e+06 4.86818000e+02]\n",
      " [5.74295009e+06 3.58878418e+06 4.89146000e+02]\n",
      " [5.74296189e+06 3.58878418e+06 4.91471000e+02]\n",
      " [5.74295534e+06 3.58878476e+06 4.91381000e+02]]\n"
     ]
    }
   ],
   "source": [
    "print('the optimized equation for transformation is:')\n",
    "print('x = %0.2e x + %0.2e y + %0.2e' % (params_opt[0], params_opt[1], params_opt[2]))\n",
    "print('y = %0.2e x + %0.2e y + %0.2e' % (params_opt[3], params_opt[4], params_opt[5]))\n",
    "print('z = %0.2e x + %0.2e y + %0.2e' % (params_opt[6], params_opt[7], params_opt[8]))\n",
    "print('\\nthe RMSE of the distance between the real coordinates and the transformed coords = %0.2e ' \n",
    "      %(opt_error))\n",
    "\n",
    "srct = transform_func(params_opt, src, order)\n",
    "\n",
    "print('the coordinates of the real and georeferenced control points are\\n',srct, '\\n\\n', dst)"
   ]
  },
  {
   "cell_type": "markdown",
   "metadata": {},
   "source": [
    "## Load shapefile that should be projected"
   ]
  },
  {
   "cell_type": "code",
   "execution_count": 39,
   "metadata": {},
   "outputs": [
    {
     "data": {
      "text/html": [
       "<div>\n",
       "<style scoped>\n",
       "    .dataframe tbody tr th:only-of-type {\n",
       "        vertical-align: middle;\n",
       "    }\n",
       "\n",
       "    .dataframe tbody tr th {\n",
       "        vertical-align: top;\n",
       "    }\n",
       "\n",
       "    .dataframe thead th {\n",
       "        text-align: right;\n",
       "    }\n",
       "</style>\n",
       "<table border=\"1\" class=\"dataframe\">\n",
       "  <thead>\n",
       "    <tr style=\"text-align: right;\">\n",
       "      <th></th>\n",
       "      <th>geometry</th>\n",
       "    </tr>\n",
       "  </thead>\n",
       "  <tbody>\n",
       "    <tr>\n",
       "      <th>0</th>\n",
       "      <td>LINESTRING (518.362 -1139.601, 1464.451 -1400....</td>\n",
       "    </tr>\n",
       "    <tr>\n",
       "      <th>1</th>\n",
       "      <td>LINESTRING (1009.730 -1275.061, 987.286 -1395....</td>\n",
       "    </tr>\n",
       "    <tr>\n",
       "      <th>2</th>\n",
       "      <td>LINESTRING (623.263 -1319.963, 989.359 -1414.639)</td>\n",
       "    </tr>\n",
       "    <tr>\n",
       "      <th>3</th>\n",
       "      <td>LINESTRING (936.874 -1401.862, 944.354 -1494.726)</td>\n",
       "    </tr>\n",
       "    <tr>\n",
       "      <th>4</th>\n",
       "      <td>LINESTRING (539.561 -1413.767, 944.354 -1494.7...</td>\n",
       "    </tr>\n",
       "  </tbody>\n",
       "</table>\n",
       "</div>"
      ],
      "text/plain": [
       "                                            geometry\n",
       "0  LINESTRING (518.362 -1139.601, 1464.451 -1400....\n",
       "1  LINESTRING (1009.730 -1275.061, 987.286 -1395....\n",
       "2  LINESTRING (623.263 -1319.963, 989.359 -1414.639)\n",
       "3  LINESTRING (936.874 -1401.862, 944.354 -1494.726)\n",
       "4  LINESTRING (539.561 -1413.767, 944.354 -1494.7..."
      ]
     },
     "execution_count": 39,
     "metadata": {},
     "output_type": "execute_result"
    }
   ],
   "source": [
    "shp = gp.read_file(shpfile)\n",
    "shp.head()"
   ]
  },
  {
   "cell_type": "code",
   "execution_count": 40,
   "metadata": {},
   "outputs": [
    {
     "data": {
      "text/plain": [
       "<matplotlib.axes._subplots.AxesSubplot at 0x1022d9a0f0>"
      ]
     },
     "execution_count": 40,
     "metadata": {},
     "output_type": "execute_result"
    },
    {
     "data": {
      "image/png": "[encoded data removed]",
      "text/plain": [
       "<Figure size 432x288 with 1 Axes>"
      ]
     },
     "metadata": {
      "needs_background": "light"
     },
     "output_type": "display_data"
    }
   ],
   "source": [
    "shp.plot()"
   ]
  },
  {
   "cell_type": "markdown",
   "metadata": {},
   "source": [
    "## Project shapefile"
   ]
  },
  {
   "cell_type": "code",
   "execution_count": 41,
   "metadata": {},
   "outputs": [],
   "source": [
    "gt = []\n",
    "\n",
    "for g in shp.geometry:\n",
    "    \n",
    "    gc = np.array(g.coords[:])\n",
    "    \n",
    "    gct = transform_func(params_opt, gc, order)\n",
    "    \n",
    "    l = shapely.geometry.LineString(gct)\n",
    "    \n",
    "    gt.append(l)\n",
    "    "
   ]
  },
  {
   "cell_type": "code",
   "execution_count": 108,
   "metadata": {},
   "outputs": [
    {
     "data": {
      "text/plain": [
       "(2, 3)"
      ]
     },
     "execution_count": 108,
     "metadata": {},
     "output_type": "execute_result"
    }
   ],
   "source": [
    "gct.shape"
   ]
  },
  {
   "cell_type": "code",
   "execution_count": 42,
   "metadata": {},
   "outputs": [],
   "source": [
    "#shp['geometry_backup'] = shp.geometry\n",
    "shp.geometry = gt"
   ]
  },
  {
   "cell_type": "markdown",
   "metadata": {},
   "source": [
    "## Save georeferenced shapefile"
   ]
  },
  {
   "cell_type": "code",
   "execution_count": 43,
   "metadata": {},
   "outputs": [
    {
     "name": "stdout",
     "output_type": "stream",
     "text": [
      "saving georeferenced shapefile as\n",
      "\tdata/L48_1_MG_TM fractures_georef.shp\n"
     ]
    }
   ],
   "source": [
    "fn_out = shpfile[:-4] + '_georef.shp'\n",
    "\n",
    "print('saving georeferenced shapefile as\\n\\t%s' % fn_out)\n",
    "\n",
    "shp.to_file(fn_out)"
   ]
  },
  {
   "cell_type": "markdown",
   "metadata": {},
   "source": [
    "## Show the georeferenced shapefile"
   ]
  },
  {
   "cell_type": "code",
   "execution_count": 44,
   "metadata": {},
   "outputs": [
    {
     "data": {
      "text/plain": [
       "<matplotlib.axes._subplots.AxesSubplot at 0x1022de11d0>"
      ]
     },
     "execution_count": 44,
     "metadata": {},
     "output_type": "execute_result"
    },
    {
     "data": {
      "image/png": "[encoded data removed]",
      "text/plain": [
       "<Figure size 432x288 with 1 Axes>"
      ]
     },
     "metadata": {
      "needs_background": "light"
     },
     "output_type": "display_data"
    }
   ],
   "source": [
    "shp.plot()  "
   ]
  },
  {
   "cell_type": "markdown",
   "metadata": {},
   "source": [
    "## Optional: Project the georefenced points to a plane"
   ]
  },
  {
   "cell_type": "code",
   "execution_count": null,
   "metadata": {},
   "outputs": [],
   "source": [
    "if project_shapefile is False:\n",
    "    print('ending notebook here')\n",
    "    exit()\n",
    "else:\n",
    "    print('proceeding with projection of georeferenced shapefile to a 2D plane')"
   ]
  },
  {
   "cell_type": "code",
   "execution_count": 49,
   "metadata": {},
   "outputs": [],
   "source": [
    "pp = gp.read_file(plane_pt_file) "
   ]
  },
  {
   "cell_type": "code",
   "execution_count": null,
   "metadata": {},
   "outputs": [],
   "source": [
    "\n"
   ]
  },
  {
   "cell_type": "code",
   "execution_count": 91,
   "metadata": {},
   "outputs": [
    {
     "name": "stdout",
     "output_type": "stream",
     "text": [
      "plane coordinates are relative to origin of\n",
      "x0 = 5742950.09, y0=3588783.31, z0=486.82\n",
      "\n",
      "\n",
      "relative coordinates plane:\n",
      " [ 7.001  0.    11.8    5.253] [0.    0.866 0.864 1.445] [0.    2.328 4.653 4.563]\n",
      "\n",
      "equation of the plane = 201810599949722211699999664723*x/100000000000000000000000000000 + 437477249999476683399999927719*y/10000000000000000000000000000 - 510239899994010020801858356703*z/50000000000000000000000000000 - 141287601028108397954945662044546994504474693/10000000000000000000000000000000000000000000\n",
      "\n",
      "simplified eq. of the plane = -10.205 z + 2.018x + 43.748 y + -14.129\n"
     ]
    }
   ],
   "source": [
    "# get coordinates of the plane\n",
    "px = pp[pp_x_col].values\n",
    "py = pp[pp_y_col].values\n",
    "pz = pp[pp_z_col].values\n",
    "\n",
    "# define origin of the plane\n",
    "x0 = px.min()\n",
    "y0 = py.min()\n",
    "z0 = pz.min()\n",
    "\n",
    "pxr = px - x0\n",
    "pyr = py - y0\n",
    "pzr = pz - z0\n",
    "\n",
    "print('plane coordinates are relative to origin of')\n",
    "print('x0 = %0.2f, y0=%0.2f, z0=%0.2f\\n' % (x0, y0, z0))\n",
    "\n",
    "print('\\nrelative coordinates plane:\\n', pxr, pyr, pzr)\n",
    "\n",
    "plane = sympy.Plane(sympy.Point3D(pxr[0], pyr[0], pzr[0]),\n",
    "                    sympy.Point3D(pxr[1], pyr[1], pzr[1]),\n",
    "                    sympy.Point3D(pxr[2], pyr[2], pzr[2]))\n",
    "\n",
    "print('\\nequation of the plane = %s' % str(plane.equation()))\n",
    "\n",
    "a = plane.equation()\n",
    "\n",
    "b = a.as_coeff_add()\n",
    "plane_coeffs = [bi.as_coeff_Mul()[0].round(3) for bi in b[1]]\n",
    "plane_coeffs.append(b[0].round(3))\n",
    "print('\\nsimplified eq. of the plane = %0.3f z + %0.3fx + %0.3f y + %0.3f' \n",
    "      % (plane_coeffs[0], plane_coeffs[1], plane_coeffs[2], plane_coeffs[3]))"
   ]
  },
  {
   "cell_type": "markdown",
   "metadata": {},
   "source": [
    "## Select two vectors that lie in the plane"
   ]
  },
  {
   "cell_type": "code",
   "execution_count": 113,
   "metadata": {},
   "outputs": [
    {
     "data": {
      "text/latex": [
       "$\\displaystyle 0$"
      ],
      "text/plain": [
       "0"
      ]
     },
     "execution_count": 113,
     "metadata": {},
     "output_type": "execute_result"
    }
   ],
   "source": [
    "plane.distance(plane.p1)"
   ]
  },
  {
   "cell_type": "code",
   "execution_count": 92,
   "metadata": {},
   "outputs": [],
   "source": [
    "shp_proj = shp.copy()"
   ]
  },
  {
   "cell_type": "code",
   "execution_count": 110,
   "metadata": {},
   "outputs": [
    {
     "name": "stdout",
     "output_type": "stream",
     "text": [
      "start projecting lines onto a plane\n",
      "note: this may take a while....\n",
      "processing line segment 1 of 468\n",
      "processing line segment 11 of 468\n",
      "processing line segment 21 of 468\n",
      "processing line segment 31 of 468\n",
      "processing line segment 41 of 468\n",
      "processing line segment 51 of 468\n",
      "processing line segment 61 of 468\n",
      "processing line segment 71 of 468\n",
      "processing line segment 81 of 468\n",
      "processing line segment 91 of 468\n",
      "processing line segment 101 of 468\n",
      "processing line segment 111 of 468\n",
      "processing line segment 121 of 468\n",
      "processing line segment 131 of 468\n",
      "processing line segment 141 of 468\n",
      "processing line segment 151 of 468\n",
      "processing line segment 161 of 468\n",
      "processing line segment 171 of 468\n",
      "processing line segment 181 of 468\n",
      "processing line segment 191 of 468\n",
      "processing line segment 201 of 468\n",
      "processing line segment 211 of 468\n",
      "processing line segment 221 of 468\n",
      "processing line segment 231 of 468\n",
      "processing line segment 241 of 468\n",
      "processing line segment 251 of 468\n",
      "processing line segment 261 of 468\n",
      "processing line segment 271 of 468\n",
      "processing line segment 281 of 468\n",
      "processing line segment 291 of 468\n",
      "processing line segment 301 of 468\n",
      "processing line segment 311 of 468\n",
      "processing line segment 321 of 468\n",
      "processing line segment 331 of 468\n",
      "processing line segment 341 of 468\n",
      "processing line segment 351 of 468\n",
      "processing line segment 361 of 468\n",
      "processing line segment 371 of 468\n",
      "processing line segment 381 of 468\n",
      "processing line segment 391 of 468\n",
      "processing line segment 401 of 468\n",
      "processing line segment 411 of 468\n",
      "processing line segment 421 of 468\n",
      "processing line segment 431 of 468\n",
      "processing line segment 441 of 468\n",
      "processing line segment 451 of 468\n",
      "processing line segment 461 of 468\n"
     ]
    }
   ],
   "source": [
    "gpr = []\n",
    "\n",
    "print('start projecting lines onto a plane')\n",
    "print('note: this may take a while....')\n",
    "\n",
    "for i, g in enumerate(shp.geometry):\n",
    "    \n",
    "    if int(i/10) == float(i/10):\n",
    "        print('processing line segment %i of %i' % (i+1, len(shp.geometry)))\n",
    "    \n",
    "    gc = np.array(g.coords[:])\n",
    "    \n",
    "    # convert the georeferenced coords to relative coords\n",
    "    gc[:, 0] = gc[:, 0] - x0\n",
    "    gc[:, 1] = gc[:, 1] - y0\n",
    "    gc[:, 2] = gc[:, 2] - z0\n",
    "    \n",
    "    gcp_sympy = [plane.projection(sympy.Point3D(gci[0], gci[1], gci[2])) for gci in gc]\n",
    "    \n",
    "    gcp = [[gi.x.round(2), gi.y.round(2), gi.z.round(2)] for gi in gcp_sympy]\n",
    "    \n",
    "    l = shapely.geometry.LineString(gcp)\n",
    "    \n",
    "    gpr.append(l)\n",
    "    \n",
    "print('done projecting')"
   ]
  },
  {
   "cell_type": "code",
   "execution_count": null,
   "metadata": {},
   "outputs": [],
   "source": [
    "shp_proj.geometry = gpr"
   ]
  },
  {
   "cell_type": "code",
   "execution_count": null,
   "metadata": {},
   "outputs": [],
   "source": []
  },
  {
   "cell_type": "code",
   "execution_count": null,
   "metadata": {},
   "outputs": [],
   "source": [
    "fn_out = shpfile[:-4] + '_projected_to_plane.shp'\n",
    "\n",
    "print('saving shapefile that was projected onto a plane as\\n\\t%s' % fn_out)\n",
    "\n",
    "shp.to_file(fn_out)"
   ]
  }
 ],
 "metadata": {
  "kernelspec": {
   "display_name": "Python 3",
   "language": "python",
   "name": "python3"
  },
  "language_info": {
   "codemirror_mode": {
    "name": "ipython",
    "version": 3
   },
   "file_extension": ".py",
   "mimetype": "text/x-python",
   "name": "python",
   "nbconvert_exporter": "python",
   "pygments_lexer": "ipython3",
   "version": "3.7.0"
  }
 },
 "nbformat": 4,
 "nbformat_minor": 4
}
